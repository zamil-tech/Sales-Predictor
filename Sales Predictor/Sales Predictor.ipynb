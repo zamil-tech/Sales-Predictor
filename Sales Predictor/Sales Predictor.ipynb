{
 "cells": [
  {
   "cell_type": "code",
   "execution_count": 2,
   "id": "29188fcd",
   "metadata": {},
   "outputs": [],
   "source": [
    "import pandas as pd\n",
    "import numpy as np\n",
    "import matplotlib.pyplot as plt\n",
    "import seaborn as sns  #data visualization library\n",
    "import warnings\n",
    "warnings.filterwarnings('ignore')   #warning genrated during execution are ignored"
   ]
  },
  {
   "cell_type": "code",
   "execution_count": 3,
   "id": "7ade5779",
   "metadata": {},
   "outputs": [
    {
     "name": "stdout",
     "output_type": "stream",
     "text": [
      "Data CSV\n",
      "   Store  Dept        Date  Weekly_Sales  IsHoliday\n",
      "0      1     1  2010-02-05      24924.50      False\n",
      "1      1     1  2010-02-12      46039.49       True\n",
      "2      1     1  2010-02-19      41595.55      False\n",
      "3      1     1  2010-02-26      19403.54      False\n",
      "4      1     1  2010-03-05      21827.90      False \n",
      "\n",
      "Features CSV\n",
      "   Store        Date  Temperature  Fuel_Price  MarkDown1  MarkDown2  \\\n",
      "0      1  2010-02-05        42.31       2.572        NaN        NaN   \n",
      "1      1  2010-02-12        38.51       2.548        NaN        NaN   \n",
      "2      1  2010-02-19        39.93       2.514        NaN        NaN   \n",
      "3      1  2010-02-26        46.63       2.561        NaN        NaN   \n",
      "4      1  2010-03-05        46.50       2.625        NaN        NaN   \n",
      "\n",
      "   MarkDown3  MarkDown4  MarkDown5         CPI  Unemployment  IsHoliday  \n",
      "0        NaN        NaN        NaN  211.096358         8.106      False  \n",
      "1        NaN        NaN        NaN  211.242170         8.106       True  \n",
      "2        NaN        NaN        NaN  211.289143         8.106      False  \n",
      "3        NaN        NaN        NaN  211.319643         8.106      False  \n",
      "4        NaN        NaN        NaN  211.350143         8.106      False   \n",
      "\n",
      "Stores CSV\n",
      "   Store Type    Size\n",
      "0      1    A  151315\n",
      "1      2    A  202307\n",
      "2      3    B   37392\n",
      "3      4    A  205863\n",
      "4      5    B   34875\n"
     ]
    }
   ],
   "source": [
    "dataset = pd.read_csv('train.csv')\n",
    "features = pd.read_csv('features.csv')\n",
    "stores = pd.read_csv('stores.csv')\n",
    "print(\"Data CSV\")\n",
    "print(dataset.head(),\"\\n\")\n",
    "\n",
    "print(\"Features CSV\")\n",
    "print(features.head(),\"\\n\")\n",
    "\n",
    "print(\"Stores CSV\")\n",
    "print(stores.head())"
   ]
  },
  {
   "cell_type": "code",
   "execution_count": 4,
   "id": "c54eac02",
   "metadata": {},
   "outputs": [
    {
     "name": "stdout",
     "output_type": "stream",
     "text": [
      "Data INFO\n",
      "<class 'pandas.core.frame.DataFrame'>\n",
      "RangeIndex: 421570 entries, 0 to 421569\n",
      "Data columns (total 5 columns):\n",
      " #   Column        Non-Null Count   Dtype  \n",
      "---  ------        --------------   -----  \n",
      " 0   Store         421570 non-null  int64  \n",
      " 1   Dept          421570 non-null  int64  \n",
      " 2   Date          421570 non-null  object \n",
      " 3   Weekly_Sales  421570 non-null  float64\n",
      " 4   IsHoliday     421570 non-null  bool   \n",
      "dtypes: bool(1), float64(1), int64(2), object(1)\n",
      "memory usage: 13.3+ MB\n",
      "None \n",
      "\n",
      "Features INFO\n",
      "<class 'pandas.core.frame.DataFrame'>\n",
      "RangeIndex: 421570 entries, 0 to 421569\n",
      "Data columns (total 5 columns):\n",
      " #   Column        Non-Null Count   Dtype  \n",
      "---  ------        --------------   -----  \n",
      " 0   Store         421570 non-null  int64  \n",
      " 1   Dept          421570 non-null  int64  \n",
      " 2   Date          421570 non-null  object \n",
      " 3   Weekly_Sales  421570 non-null  float64\n",
      " 4   IsHoliday     421570 non-null  bool   \n",
      "dtypes: bool(1), float64(1), int64(2), object(1)\n",
      "memory usage: 13.3+ MB\n",
      "None \n",
      "\n",
      "Stores INFO\n",
      "<class 'pandas.core.frame.DataFrame'>\n",
      "RangeIndex: 421570 entries, 0 to 421569\n",
      "Data columns (total 5 columns):\n",
      " #   Column        Non-Null Count   Dtype  \n",
      "---  ------        --------------   -----  \n",
      " 0   Store         421570 non-null  int64  \n",
      " 1   Dept          421570 non-null  int64  \n",
      " 2   Date          421570 non-null  object \n",
      " 3   Weekly_Sales  421570 non-null  float64\n",
      " 4   IsHoliday     421570 non-null  bool   \n",
      "dtypes: bool(1), float64(1), int64(2), object(1)\n",
      "memory usage: 13.3+ MB\n",
      "None\n"
     ]
    }
   ],
   "source": [
    "print(\"Data INFO\")\n",
    "print(dataset.info(),\"\\n\")\n",
    "\n",
    "print(\"Features INFO\")\n",
    "print(dataset.info(),\"\\n\")\n",
    "\n",
    "print(\"Stores INFO\")\n",
    "print(dataset.info())"
   ]
  },
  {
   "cell_type": "code",
   "execution_count": 5,
   "id": "65cfbab6",
   "metadata": {},
   "outputs": [
    {
     "name": "stdout",
     "output_type": "stream",
     "text": [
      "Data Shape (421570, 5)\n",
      "Features Shape (8190, 12)\n",
      "Store Shape (45, 3)\n"
     ]
    }
   ],
   "source": [
    "print(\"Data Shape\",dataset.shape)\n",
    "print(\"Features Shape\",features.shape)\n",
    "print(\"Store Shape\",stores.shape)"
   ]
  },
  {
   "cell_type": "code",
   "execution_count": 6,
   "id": "554082ae",
   "metadata": {
    "scrolled": true
   },
   "outputs": [
    {
     "data": {
      "text/html": [
       "<div>\n",
       "<style scoped>\n",
       "    .dataframe tbody tr th:only-of-type {\n",
       "        vertical-align: middle;\n",
       "    }\n",
       "\n",
       "    .dataframe tbody tr th {\n",
       "        vertical-align: top;\n",
       "    }\n",
       "\n",
       "    .dataframe thead th {\n",
       "        text-align: right;\n",
       "    }\n",
       "</style>\n",
       "<table border=\"1\" class=\"dataframe\">\n",
       "  <thead>\n",
       "    <tr style=\"text-align: right;\">\n",
       "      <th></th>\n",
       "      <th>Store</th>\n",
       "      <th>Dept</th>\n",
       "      <th>Date</th>\n",
       "      <th>Weekly_Sales</th>\n",
       "      <th>IsHoliday</th>\n",
       "      <th>Temperature</th>\n",
       "      <th>Fuel_Price</th>\n",
       "      <th>MarkDown1</th>\n",
       "      <th>MarkDown2</th>\n",
       "      <th>MarkDown3</th>\n",
       "      <th>MarkDown4</th>\n",
       "      <th>MarkDown5</th>\n",
       "      <th>CPI</th>\n",
       "      <th>Unemployment</th>\n",
       "      <th>Type</th>\n",
       "      <th>Size</th>\n",
       "    </tr>\n",
       "  </thead>\n",
       "  <tbody>\n",
       "    <tr>\n",
       "      <th>0</th>\n",
       "      <td>1</td>\n",
       "      <td>1.0</td>\n",
       "      <td>2010-02-05</td>\n",
       "      <td>24924.50</td>\n",
       "      <td>False</td>\n",
       "      <td>42.31</td>\n",
       "      <td>2.572</td>\n",
       "      <td>NaN</td>\n",
       "      <td>NaN</td>\n",
       "      <td>NaN</td>\n",
       "      <td>NaN</td>\n",
       "      <td>NaN</td>\n",
       "      <td>211.096358</td>\n",
       "      <td>8.106</td>\n",
       "      <td>A</td>\n",
       "      <td>151315</td>\n",
       "    </tr>\n",
       "    <tr>\n",
       "      <th>1</th>\n",
       "      <td>1</td>\n",
       "      <td>2.0</td>\n",
       "      <td>2010-02-05</td>\n",
       "      <td>50605.27</td>\n",
       "      <td>False</td>\n",
       "      <td>42.31</td>\n",
       "      <td>2.572</td>\n",
       "      <td>NaN</td>\n",
       "      <td>NaN</td>\n",
       "      <td>NaN</td>\n",
       "      <td>NaN</td>\n",
       "      <td>NaN</td>\n",
       "      <td>211.096358</td>\n",
       "      <td>8.106</td>\n",
       "      <td>A</td>\n",
       "      <td>151315</td>\n",
       "    </tr>\n",
       "    <tr>\n",
       "      <th>2</th>\n",
       "      <td>1</td>\n",
       "      <td>3.0</td>\n",
       "      <td>2010-02-05</td>\n",
       "      <td>13740.12</td>\n",
       "      <td>False</td>\n",
       "      <td>42.31</td>\n",
       "      <td>2.572</td>\n",
       "      <td>NaN</td>\n",
       "      <td>NaN</td>\n",
       "      <td>NaN</td>\n",
       "      <td>NaN</td>\n",
       "      <td>NaN</td>\n",
       "      <td>211.096358</td>\n",
       "      <td>8.106</td>\n",
       "      <td>A</td>\n",
       "      <td>151315</td>\n",
       "    </tr>\n",
       "    <tr>\n",
       "      <th>3</th>\n",
       "      <td>1</td>\n",
       "      <td>4.0</td>\n",
       "      <td>2010-02-05</td>\n",
       "      <td>39954.04</td>\n",
       "      <td>False</td>\n",
       "      <td>42.31</td>\n",
       "      <td>2.572</td>\n",
       "      <td>NaN</td>\n",
       "      <td>NaN</td>\n",
       "      <td>NaN</td>\n",
       "      <td>NaN</td>\n",
       "      <td>NaN</td>\n",
       "      <td>211.096358</td>\n",
       "      <td>8.106</td>\n",
       "      <td>A</td>\n",
       "      <td>151315</td>\n",
       "    </tr>\n",
       "    <tr>\n",
       "      <th>4</th>\n",
       "      <td>1</td>\n",
       "      <td>5.0</td>\n",
       "      <td>2010-02-05</td>\n",
       "      <td>32229.38</td>\n",
       "      <td>False</td>\n",
       "      <td>42.31</td>\n",
       "      <td>2.572</td>\n",
       "      <td>NaN</td>\n",
       "      <td>NaN</td>\n",
       "      <td>NaN</td>\n",
       "      <td>NaN</td>\n",
       "      <td>NaN</td>\n",
       "      <td>211.096358</td>\n",
       "      <td>8.106</td>\n",
       "      <td>A</td>\n",
       "      <td>151315</td>\n",
       "    </tr>\n",
       "  </tbody>\n",
       "</table>\n",
       "</div>"
      ],
      "text/plain": [
       "   Store  Dept        Date  Weekly_Sales  IsHoliday  Temperature  Fuel_Price  \\\n",
       "0      1   1.0  2010-02-05      24924.50      False        42.31       2.572   \n",
       "1      1   2.0  2010-02-05      50605.27      False        42.31       2.572   \n",
       "2      1   3.0  2010-02-05      13740.12      False        42.31       2.572   \n",
       "3      1   4.0  2010-02-05      39954.04      False        42.31       2.572   \n",
       "4      1   5.0  2010-02-05      32229.38      False        42.31       2.572   \n",
       "\n",
       "   MarkDown1  MarkDown2  MarkDown3  MarkDown4  MarkDown5         CPI  \\\n",
       "0        NaN        NaN        NaN        NaN        NaN  211.096358   \n",
       "1        NaN        NaN        NaN        NaN        NaN  211.096358   \n",
       "2        NaN        NaN        NaN        NaN        NaN  211.096358   \n",
       "3        NaN        NaN        NaN        NaN        NaN  211.096358   \n",
       "4        NaN        NaN        NaN        NaN        NaN  211.096358   \n",
       "\n",
       "   Unemployment Type    Size  \n",
       "0         8.106    A  151315  \n",
       "1         8.106    A  151315  \n",
       "2         8.106    A  151315  \n",
       "3         8.106    A  151315  \n",
       "4         8.106    A  151315  "
      ]
     },
     "execution_count": 6,
     "metadata": {},
     "output_type": "execute_result"
    }
   ],
   "source": [
    "#Merging the Datasets\n",
    "final_dataset = dataset.merge(features,'right').merge(stores,'left')\n",
    "final_dataset.head()"
   ]
  },
  {
   "cell_type": "code",
   "execution_count": 7,
   "id": "f362db8c",
   "metadata": {},
   "outputs": [
    {
     "data": {
      "text/plain": [
       "(423325, 16)"
      ]
     },
     "execution_count": 7,
     "metadata": {},
     "output_type": "execute_result"
    }
   ],
   "source": [
    "final_dataset.shape"
   ]
  },
  {
   "cell_type": "code",
   "execution_count": 8,
   "id": "0181c9df",
   "metadata": {},
   "outputs": [],
   "source": [
    "#Dropping the columns\n",
    "final_dataset = final_dataset.drop(['Store','Date','Type'],axis=1)"
   ]
  },
  {
   "cell_type": "code",
   "execution_count": 10,
   "id": "b9ea4542",
   "metadata": {
    "scrolled": false
   },
   "outputs": [
    {
     "data": {
      "text/plain": [
       "Dept              1755\n",
       "Weekly_Sales      1755\n",
       "IsHoliday            0\n",
       "Temperature          0\n",
       "Fuel_Price           0\n",
       "MarkDown1       270892\n",
       "MarkDown2       310793\n",
       "MarkDown3       284667\n",
       "MarkDown4       286859\n",
       "MarkDown5       270138\n",
       "CPI                585\n",
       "Unemployment       585\n",
       "Size                 0\n",
       "dtype: int64"
      ]
     },
     "execution_count": 10,
     "metadata": {},
     "output_type": "execute_result"
    }
   ],
   "source": [
    "#Getting the null values\n",
    "final_dataset.isna().sum()"
   ]
  },
  {
   "cell_type": "code",
   "execution_count": 11,
   "id": "52490d01",
   "metadata": {},
   "outputs": [
    {
     "data": {
      "text/plain": [
       "Index(['Dept', 'Weekly_Sales', 'IsHoliday', 'Temperature', 'Fuel_Price',\n",
       "       'MarkDown1', 'MarkDown2', 'MarkDown3', 'MarkDown4', 'MarkDown5', 'CPI',\n",
       "       'Unemployment', 'Size'],\n",
       "      dtype='object')"
      ]
     },
     "execution_count": 11,
     "metadata": {},
     "output_type": "execute_result"
    }
   ],
   "source": [
    "final_dataset.columns"
   ]
  },
  {
   "cell_type": "code",
   "execution_count": 12,
   "id": "c9989677",
   "metadata": {
    "scrolled": true
   },
   "outputs": [],
   "source": [
    "from sklearn.impute import SimpleImputer\n",
    "\n",
    "imputer = SimpleImputer(strategy = \"median\")\n",
    "final_dataset = imputer.fit_transform(final_dataset)"
   ]
  },
  {
   "cell_type": "code",
   "execution_count": 13,
   "id": "337c67c4",
   "metadata": {
    "scrolled": true
   },
   "outputs": [
    {
     "data": {
      "text/html": [
       "<div>\n",
       "<style scoped>\n",
       "    .dataframe tbody tr th:only-of-type {\n",
       "        vertical-align: middle;\n",
       "    }\n",
       "\n",
       "    .dataframe tbody tr th {\n",
       "        vertical-align: top;\n",
       "    }\n",
       "\n",
       "    .dataframe thead th {\n",
       "        text-align: right;\n",
       "    }\n",
       "</style>\n",
       "<table border=\"1\" class=\"dataframe\">\n",
       "  <thead>\n",
       "    <tr style=\"text-align: right;\">\n",
       "      <th></th>\n",
       "      <th>Dept</th>\n",
       "      <th>Weekly_Sales</th>\n",
       "      <th>IsHoliday</th>\n",
       "      <th>Temperature</th>\n",
       "      <th>Fuel_Price</th>\n",
       "      <th>MarkDown1</th>\n",
       "      <th>MarkDown2</th>\n",
       "      <th>MarkDown3</th>\n",
       "      <th>MarkDown4</th>\n",
       "      <th>MarkDown5</th>\n",
       "      <th>CPI</th>\n",
       "      <th>Unemployment</th>\n",
       "      <th>Size</th>\n",
       "    </tr>\n",
       "  </thead>\n",
       "  <tbody>\n",
       "    <tr>\n",
       "      <th>0</th>\n",
       "      <td>1.0</td>\n",
       "      <td>24924.50</td>\n",
       "      <td>0.0</td>\n",
       "      <td>42.31</td>\n",
       "      <td>2.572</td>\n",
       "      <td>5336.52</td>\n",
       "      <td>194.67</td>\n",
       "      <td>24.83</td>\n",
       "      <td>1465.54</td>\n",
       "      <td>3340.02</td>\n",
       "      <td>211.096358</td>\n",
       "      <td>8.106</td>\n",
       "      <td>151315.0</td>\n",
       "    </tr>\n",
       "    <tr>\n",
       "      <th>1</th>\n",
       "      <td>2.0</td>\n",
       "      <td>50605.27</td>\n",
       "      <td>0.0</td>\n",
       "      <td>42.31</td>\n",
       "      <td>2.572</td>\n",
       "      <td>5336.52</td>\n",
       "      <td>194.67</td>\n",
       "      <td>24.83</td>\n",
       "      <td>1465.54</td>\n",
       "      <td>3340.02</td>\n",
       "      <td>211.096358</td>\n",
       "      <td>8.106</td>\n",
       "      <td>151315.0</td>\n",
       "    </tr>\n",
       "    <tr>\n",
       "      <th>2</th>\n",
       "      <td>3.0</td>\n",
       "      <td>13740.12</td>\n",
       "      <td>0.0</td>\n",
       "      <td>42.31</td>\n",
       "      <td>2.572</td>\n",
       "      <td>5336.52</td>\n",
       "      <td>194.67</td>\n",
       "      <td>24.83</td>\n",
       "      <td>1465.54</td>\n",
       "      <td>3340.02</td>\n",
       "      <td>211.096358</td>\n",
       "      <td>8.106</td>\n",
       "      <td>151315.0</td>\n",
       "    </tr>\n",
       "    <tr>\n",
       "      <th>3</th>\n",
       "      <td>4.0</td>\n",
       "      <td>39954.04</td>\n",
       "      <td>0.0</td>\n",
       "      <td>42.31</td>\n",
       "      <td>2.572</td>\n",
       "      <td>5336.52</td>\n",
       "      <td>194.67</td>\n",
       "      <td>24.83</td>\n",
       "      <td>1465.54</td>\n",
       "      <td>3340.02</td>\n",
       "      <td>211.096358</td>\n",
       "      <td>8.106</td>\n",
       "      <td>151315.0</td>\n",
       "    </tr>\n",
       "    <tr>\n",
       "      <th>4</th>\n",
       "      <td>5.0</td>\n",
       "      <td>32229.38</td>\n",
       "      <td>0.0</td>\n",
       "      <td>42.31</td>\n",
       "      <td>2.572</td>\n",
       "      <td>5336.52</td>\n",
       "      <td>194.67</td>\n",
       "      <td>24.83</td>\n",
       "      <td>1465.54</td>\n",
       "      <td>3340.02</td>\n",
       "      <td>211.096358</td>\n",
       "      <td>8.106</td>\n",
       "      <td>151315.0</td>\n",
       "    </tr>\n",
       "  </tbody>\n",
       "</table>\n",
       "</div>"
      ],
      "text/plain": [
       "   Dept  Weekly_Sales  IsHoliday  Temperature  Fuel_Price  MarkDown1  \\\n",
       "0   1.0      24924.50        0.0        42.31       2.572    5336.52   \n",
       "1   2.0      50605.27        0.0        42.31       2.572    5336.52   \n",
       "2   3.0      13740.12        0.0        42.31       2.572    5336.52   \n",
       "3   4.0      39954.04        0.0        42.31       2.572    5336.52   \n",
       "4   5.0      32229.38        0.0        42.31       2.572    5336.52   \n",
       "\n",
       "   MarkDown2  MarkDown3  MarkDown4  MarkDown5         CPI  Unemployment  \\\n",
       "0     194.67      24.83    1465.54    3340.02  211.096358         8.106   \n",
       "1     194.67      24.83    1465.54    3340.02  211.096358         8.106   \n",
       "2     194.67      24.83    1465.54    3340.02  211.096358         8.106   \n",
       "3     194.67      24.83    1465.54    3340.02  211.096358         8.106   \n",
       "4     194.67      24.83    1465.54    3340.02  211.096358         8.106   \n",
       "\n",
       "       Size  \n",
       "0  151315.0  \n",
       "1  151315.0  \n",
       "2  151315.0  \n",
       "3  151315.0  \n",
       "4  151315.0  "
      ]
     },
     "execution_count": 13,
     "metadata": {},
     "output_type": "execute_result"
    }
   ],
   "source": [
    "final_dataset = pd.DataFrame(final_dataset,columns=['Dept', 'Weekly_Sales', 'IsHoliday', 'Temperature', 'Fuel_Price',\n",
    "       'MarkDown1', 'MarkDown2', 'MarkDown3', 'MarkDown4', 'MarkDown5', 'CPI',\n",
    "       'Unemployment', 'Size'])\n",
    "final_dataset.head()"
   ]
  },
  {
   "cell_type": "code",
   "execution_count": 14,
   "id": "b91e911f",
   "metadata": {
    "scrolled": true
   },
   "outputs": [
    {
     "data": {
      "text/plain": [
       "Dept            0\n",
       "Weekly_Sales    0\n",
       "IsHoliday       0\n",
       "Temperature     0\n",
       "Fuel_Price      0\n",
       "MarkDown1       0\n",
       "MarkDown2       0\n",
       "MarkDown3       0\n",
       "MarkDown4       0\n",
       "MarkDown5       0\n",
       "CPI             0\n",
       "Unemployment    0\n",
       "Size            0\n",
       "dtype: int64"
      ]
     },
     "execution_count": 14,
     "metadata": {},
     "output_type": "execute_result"
    }
   ],
   "source": [
    "final_dataset.isna().sum()"
   ]
  },
  {
   "cell_type": "code",
   "execution_count": 15,
   "id": "951a4d51",
   "metadata": {},
   "outputs": [
    {
     "data": {
      "text/html": [
       "<div>\n",
       "<style scoped>\n",
       "    .dataframe tbody tr th:only-of-type {\n",
       "        vertical-align: middle;\n",
       "    }\n",
       "\n",
       "    .dataframe tbody tr th {\n",
       "        vertical-align: top;\n",
       "    }\n",
       "\n",
       "    .dataframe thead th {\n",
       "        text-align: right;\n",
       "    }\n",
       "</style>\n",
       "<table border=\"1\" class=\"dataframe\">\n",
       "  <thead>\n",
       "    <tr style=\"text-align: right;\">\n",
       "      <th></th>\n",
       "      <th>Dept</th>\n",
       "      <th>Weekly_Sales</th>\n",
       "      <th>IsHoliday</th>\n",
       "      <th>Temperature</th>\n",
       "      <th>Fuel_Price</th>\n",
       "      <th>MarkDown1</th>\n",
       "      <th>MarkDown2</th>\n",
       "      <th>MarkDown3</th>\n",
       "      <th>MarkDown4</th>\n",
       "      <th>MarkDown5</th>\n",
       "      <th>CPI</th>\n",
       "      <th>Unemployment</th>\n",
       "      <th>Size</th>\n",
       "    </tr>\n",
       "  </thead>\n",
       "  <tbody>\n",
       "    <tr>\n",
       "      <th>0</th>\n",
       "      <td>1.0</td>\n",
       "      <td>24924.50</td>\n",
       "      <td>0.0</td>\n",
       "      <td>42.31</td>\n",
       "      <td>2.572</td>\n",
       "      <td>5336.52</td>\n",
       "      <td>194.67</td>\n",
       "      <td>24.83</td>\n",
       "      <td>1465.54</td>\n",
       "      <td>3340.02</td>\n",
       "      <td>211.096358</td>\n",
       "      <td>8.106</td>\n",
       "      <td>151315.0</td>\n",
       "    </tr>\n",
       "    <tr>\n",
       "      <th>1</th>\n",
       "      <td>2.0</td>\n",
       "      <td>50605.27</td>\n",
       "      <td>0.0</td>\n",
       "      <td>42.31</td>\n",
       "      <td>2.572</td>\n",
       "      <td>5336.52</td>\n",
       "      <td>194.67</td>\n",
       "      <td>24.83</td>\n",
       "      <td>1465.54</td>\n",
       "      <td>3340.02</td>\n",
       "      <td>211.096358</td>\n",
       "      <td>8.106</td>\n",
       "      <td>151315.0</td>\n",
       "    </tr>\n",
       "    <tr>\n",
       "      <th>2</th>\n",
       "      <td>3.0</td>\n",
       "      <td>13740.12</td>\n",
       "      <td>0.0</td>\n",
       "      <td>42.31</td>\n",
       "      <td>2.572</td>\n",
       "      <td>5336.52</td>\n",
       "      <td>194.67</td>\n",
       "      <td>24.83</td>\n",
       "      <td>1465.54</td>\n",
       "      <td>3340.02</td>\n",
       "      <td>211.096358</td>\n",
       "      <td>8.106</td>\n",
       "      <td>151315.0</td>\n",
       "    </tr>\n",
       "    <tr>\n",
       "      <th>3</th>\n",
       "      <td>4.0</td>\n",
       "      <td>39954.04</td>\n",
       "      <td>0.0</td>\n",
       "      <td>42.31</td>\n",
       "      <td>2.572</td>\n",
       "      <td>5336.52</td>\n",
       "      <td>194.67</td>\n",
       "      <td>24.83</td>\n",
       "      <td>1465.54</td>\n",
       "      <td>3340.02</td>\n",
       "      <td>211.096358</td>\n",
       "      <td>8.106</td>\n",
       "      <td>151315.0</td>\n",
       "    </tr>\n",
       "    <tr>\n",
       "      <th>4</th>\n",
       "      <td>5.0</td>\n",
       "      <td>32229.38</td>\n",
       "      <td>0.0</td>\n",
       "      <td>42.31</td>\n",
       "      <td>2.572</td>\n",
       "      <td>5336.52</td>\n",
       "      <td>194.67</td>\n",
       "      <td>24.83</td>\n",
       "      <td>1465.54</td>\n",
       "      <td>3340.02</td>\n",
       "      <td>211.096358</td>\n",
       "      <td>8.106</td>\n",
       "      <td>151315.0</td>\n",
       "    </tr>\n",
       "  </tbody>\n",
       "</table>\n",
       "</div>"
      ],
      "text/plain": [
       "   Dept  Weekly_Sales  IsHoliday  Temperature  Fuel_Price  MarkDown1  \\\n",
       "0   1.0      24924.50        0.0        42.31       2.572    5336.52   \n",
       "1   2.0      50605.27        0.0        42.31       2.572    5336.52   \n",
       "2   3.0      13740.12        0.0        42.31       2.572    5336.52   \n",
       "3   4.0      39954.04        0.0        42.31       2.572    5336.52   \n",
       "4   5.0      32229.38        0.0        42.31       2.572    5336.52   \n",
       "\n",
       "   MarkDown2  MarkDown3  MarkDown4  MarkDown5         CPI  Unemployment  \\\n",
       "0     194.67      24.83    1465.54    3340.02  211.096358         8.106   \n",
       "1     194.67      24.83    1465.54    3340.02  211.096358         8.106   \n",
       "2     194.67      24.83    1465.54    3340.02  211.096358         8.106   \n",
       "3     194.67      24.83    1465.54    3340.02  211.096358         8.106   \n",
       "4     194.67      24.83    1465.54    3340.02  211.096358         8.106   \n",
       "\n",
       "       Size  \n",
       "0  151315.0  \n",
       "1  151315.0  \n",
       "2  151315.0  \n",
       "3  151315.0  \n",
       "4  151315.0  "
      ]
     },
     "execution_count": 15,
     "metadata": {},
     "output_type": "execute_result"
    }
   ],
   "source": [
    "#Get dummies\n",
    "final_dataset = pd.get_dummies(final_dataset)\n",
    "final_dataset.head()"
   ]
  },
  {
   "cell_type": "code",
   "execution_count": 16,
   "id": "70ce52b0",
   "metadata": {},
   "outputs": [
    {
     "data": {
      "text/plain": [
       "Dept            0.148337\n",
       "Weekly_Sales    1.000000\n",
       "IsHoliday       0.012703\n",
       "Temperature    -0.001850\n",
       "Fuel_Price     -0.000848\n",
       "MarkDown1       0.051875\n",
       "MarkDown2       0.019745\n",
       "MarkDown3       0.037662\n",
       "MarkDown4       0.033217\n",
       "MarkDown5       0.052858\n",
       "CPI            -0.021185\n",
       "Unemployment   -0.025203\n",
       "Size            0.243373\n",
       "Name: Weekly_Sales, dtype: float64"
      ]
     },
     "execution_count": 16,
     "metadata": {},
     "output_type": "execute_result"
    }
   ],
   "source": [
    "#Getting the coorelation\n",
    "corr = final_dataset.corr()['Weekly_Sales']\n",
    "corr"
   ]
  },
  {
   "cell_type": "code",
   "execution_count": 17,
   "id": "e977a010",
   "metadata": {},
   "outputs": [
    {
     "data": {
      "image/png": "[encoded data removed]",
      "text/plain": [
       "<Figure size 1440x1440 with 2 Axes>"
      ]
     },
     "metadata": {
      "needs_background": "light"
     },
     "output_type": "display_data"
    }
   ],
   "source": [
    "#Plotting Coorelation using Heatmap\n",
    "plt.figure(figsize=(20,20))\n",
    "g = sns.heatmap(final_dataset.corr(),annot=True, cmap=\"RdYlGn\")"
   ]
  },
  {
   "cell_type": "code",
   "execution_count": 18,
   "id": "821e22d6",
   "metadata": {},
   "outputs": [],
   "source": [
    "from sklearn.model_selection import train_test_split\n",
    "X = final_dataset.drop('Weekly_Sales',axis=1)\n",
    "y = final_dataset['Weekly_Sales']\n",
    "x_train, x_test, y_train, y_test = train_test_split(X,y)"
   ]
  },
  {
   "cell_type": "code",
   "execution_count": 19,
   "id": "9773fbc8",
   "metadata": {},
   "outputs": [
    {
     "data": {
      "text/plain": [
       "ExtraTreesRegressor()"
      ]
     },
     "execution_count": 19,
     "metadata": {},
     "output_type": "execute_result"
    }
   ],
   "source": [
    "from sklearn.ensemble import ExtraTreesRegressor\n",
    "######Feature Importance#######\n",
    "model = ExtraTreesRegressor()  #This Regression Algorithm will help you in finding out the best features\n",
    "model.fit(X,y)"
   ]
  },
  {
   "cell_type": "code",
   "execution_count": 20,
   "id": "9e3c6a21",
   "metadata": {},
   "outputs": [
    {
     "data": {
      "image/png": "[encoded data removed]",
      "text/plain": [
       "<Figure size 432x288 with 1 Axes>"
      ]
     },
     "metadata": {
      "needs_background": "light"
     },
     "output_type": "display_data"
    }
   ],
   "source": [
    "#Plotting the Graph For better visualization\n",
    "feat_importances = pd.Series(model.feature_importances_,index=X.columns)\n",
    "feat_importances.nlargest(5).plot(kind='barh')\n",
    "plt.show()"
   ]
  },
  {
   "cell_type": "markdown",
   "id": "d183e7d1",
   "metadata": {},
   "source": [
    "# Implementing best models to get the best prediction/least Error"
   ]
  },
  {
   "cell_type": "code",
   "execution_count": 21,
   "id": "2839e4b7",
   "metadata": {},
   "outputs": [
    {
     "data": {
      "text/plain": [
       "21912.325535008094"
      ]
     },
     "execution_count": 21,
     "metadata": {},
     "output_type": "execute_result"
    }
   ],
   "source": [
    "from sklearn.linear_model import LinearRegression\n",
    "from sklearn.metrics import mean_squared_error\n",
    "lr_reg = LinearRegression()\n",
    "lr_reg.fit(x_train,y_train)\n",
    "y_pred = lr_reg.predict(x_test)\n",
    "np.sqrt(mean_squared_error(y_test,y_pred))"
   ]
  },
  {
   "cell_type": "code",
   "execution_count": 22,
   "id": "f9a77ebf",
   "metadata": {},
   "outputs": [
    {
     "data": {
      "text/plain": [
       "7102.646309241869"
      ]
     },
     "execution_count": 22,
     "metadata": {},
     "output_type": "execute_result"
    }
   ],
   "source": [
    "from sklearn.tree import DecisionTreeRegressor\n",
    "dec_reg = DecisionTreeRegressor()\n",
    "dec_reg.fit(x_train,y_train)\n",
    "y_pred = dec_reg.predict(x_test)\n",
    "np.sqrt(mean_squared_error(y_test,y_pred))"
   ]
  },
  {
   "cell_type": "code",
   "execution_count": 23,
   "id": "39f9f5ff",
   "metadata": {},
   "outputs": [
    {
     "data": {
      "text/plain": [
       "5229.923345065733"
      ]
     },
     "execution_count": 23,
     "metadata": {},
     "output_type": "execute_result"
    }
   ],
   "source": [
    "from sklearn.ensemble import RandomForestRegressor\n",
    "\n",
    "rf_reg = RandomForestRegressor()\n",
    "rf_reg.fit(x_train,y_train)\n",
    "y_pred = rf_reg.predict(x_test)\n",
    "np.sqrt(mean_squared_error(y_test,y_pred))"
   ]
  },
  {
   "cell_type": "code",
   "execution_count": 24,
   "id": "a85a4697",
   "metadata": {},
   "outputs": [
    {
     "name": "stdout",
     "output_type": "stream",
     "text": [
      "Scores:  [-4.85119031e+08 -4.27958273e+08 -5.10745665e+08 -4.47714100e+08\n",
      " -5.08482976e+08 -4.83433378e+08 -4.78035256e+08 -4.95598510e+08\n",
      " -4.95264569e+08 -4.69616491e+08]\n",
      "Mean:  -480196824.8134837\n",
      "Std Deviation:  24764692.218978893\n"
     ]
    }
   ],
   "source": [
    "from sklearn.model_selection import cross_val_score \n",
    "\n",
    "#Getting Cross Validation scores of Models\n",
    "\n",
    "#For Linear Regression\n",
    "scores = cross_val_score(lr_reg, x_test, y_test, scoring = 'neg_mean_squared_error',cv = 10)\n",
    "print(\"Scores: \", scores)\n",
    "print(\"Mean: \", scores.mean())\n",
    "print(\"Std Deviation: \", scores.std())"
   ]
  },
  {
   "cell_type": "code",
   "execution_count": 25,
   "id": "6fd4cbd3",
   "metadata": {},
   "outputs": [
    {
     "name": "stdout",
     "output_type": "stream",
     "text": [
      "Scores:  [-6.05912487e+07 -6.06539769e+07 -5.97884976e+07 -5.81596187e+07\n",
      " -9.66491843e+07 -7.97696622e+07 -6.40243941e+07 -8.53171228e+07\n",
      " -1.32804373e+08 -7.52039425e+07]\n",
      "Mean:  -77296202.07053412\n",
      "Std Deviation:  22215792.190778323\n"
     ]
    }
   ],
   "source": [
    "#For Decision Tree \n",
    "scores = cross_val_score(dec_reg, x_test, y_test, scoring = 'neg_mean_squared_error',cv = 10)\n",
    "print(\"Scores: \", scores)\n",
    "print(\"Mean: \", scores.mean())\n",
    "print(\"Std Deviation: \", scores.std())"
   ]
  },
  {
   "cell_type": "code",
   "execution_count": 26,
   "id": "78c14ba3",
   "metadata": {},
   "outputs": [
    {
     "name": "stdout",
     "output_type": "stream",
     "text": [
      "Scores:  [-8.39953243e+07 -1.16801631e+08 -1.16496938e+08 -1.09277784e+08\n",
      " -1.03728118e+08 -8.86472177e+07 -9.71487618e+07 -1.12213113e+08\n",
      " -1.28666095e+08 -9.13721009e+07]\n",
      "Mean:  -104834708.40041795\n",
      "Std Deviation:  13635199.027034767\n"
     ]
    }
   ],
   "source": [
    "#For Random Forest\n",
    "scores = cross_val_score(rf_reg, x_test[:4000], y_test[:4000], scoring = 'neg_mean_squared_error',cv = 10)\n",
    "print(\"Scores: \", scores)\n",
    "print(\"Mean: \", scores.mean())\n",
    "print(\"Std Deviation: \", scores.std())"
   ]
  },
  {
   "cell_type": "code",
   "execution_count": 27,
   "id": "9e171d09",
   "metadata": {},
   "outputs": [],
   "source": [
    "#By looking at above results we decide to use Random Forest Model"
   ]
  },
  {
   "cell_type": "code",
   "execution_count": 28,
   "id": "a2feb75c",
   "metadata": {},
   "outputs": [
    {
     "data": {
      "image/png": "[encoded data removed]",
      "text/plain": [
       "<Figure size 432x288 with 1 Axes>"
      ]
     },
     "metadata": {
      "needs_background": "light"
     },
     "output_type": "display_data"
    }
   ],
   "source": [
    "plt.scatter(y_test, y_pred)\n",
    "plt.xlabel('Actual Weekly Sales')\n",
    "plt.ylabel('Predicted Weekly Sales')\n",
    "plt.grid(True)"
   ]
  },
  {
   "cell_type": "code",
   "execution_count": 29,
   "id": "6a0701e1",
   "metadata": {
    "scrolled": true
   },
   "outputs": [
    {
     "data": {
      "text/html": [
       "<div>\n",
       "<style scoped>\n",
       "    .dataframe tbody tr th:only-of-type {\n",
       "        vertical-align: middle;\n",
       "    }\n",
       "\n",
       "    .dataframe tbody tr th {\n",
       "        vertical-align: top;\n",
       "    }\n",
       "\n",
       "    .dataframe thead th {\n",
       "        text-align: right;\n",
       "    }\n",
       "</style>\n",
       "<table border=\"1\" class=\"dataframe\">\n",
       "  <thead>\n",
       "    <tr style=\"text-align: right;\">\n",
       "      <th></th>\n",
       "      <th>Original Sales</th>\n",
       "      <th>Predicted Sales</th>\n",
       "    </tr>\n",
       "  </thead>\n",
       "  <tbody>\n",
       "    <tr>\n",
       "      <th>0</th>\n",
       "      <td>6491.69</td>\n",
       "      <td>7381.4135</td>\n",
       "    </tr>\n",
       "    <tr>\n",
       "      <th>1</th>\n",
       "      <td>5351.40</td>\n",
       "      <td>5639.9199</td>\n",
       "    </tr>\n",
       "    <tr>\n",
       "      <th>2</th>\n",
       "      <td>7241.10</td>\n",
       "      <td>7231.3119</td>\n",
       "    </tr>\n",
       "    <tr>\n",
       "      <th>3</th>\n",
       "      <td>5731.90</td>\n",
       "      <td>6102.2814</td>\n",
       "    </tr>\n",
       "    <tr>\n",
       "      <th>4</th>\n",
       "      <td>3666.45</td>\n",
       "      <td>2695.5010</td>\n",
       "    </tr>\n",
       "    <tr>\n",
       "      <th>...</th>\n",
       "      <td>...</td>\n",
       "      <td>...</td>\n",
       "    </tr>\n",
       "    <tr>\n",
       "      <th>95</th>\n",
       "      <td>12631.10</td>\n",
       "      <td>23719.5121</td>\n",
       "    </tr>\n",
       "    <tr>\n",
       "      <th>96</th>\n",
       "      <td>10507.48</td>\n",
       "      <td>13840.9987</td>\n",
       "    </tr>\n",
       "    <tr>\n",
       "      <th>97</th>\n",
       "      <td>2612.14</td>\n",
       "      <td>3315.1000</td>\n",
       "    </tr>\n",
       "    <tr>\n",
       "      <th>98</th>\n",
       "      <td>21.56</td>\n",
       "      <td>32.0856</td>\n",
       "    </tr>\n",
       "    <tr>\n",
       "      <th>99</th>\n",
       "      <td>30885.36</td>\n",
       "      <td>32848.4196</td>\n",
       "    </tr>\n",
       "  </tbody>\n",
       "</table>\n",
       "<p>100 rows × 2 columns</p>\n",
       "</div>"
      ],
      "text/plain": [
       "    Original Sales  Predicted Sales\n",
       "0          6491.69        7381.4135\n",
       "1          5351.40        5639.9199\n",
       "2          7241.10        7231.3119\n",
       "3          5731.90        6102.2814\n",
       "4          3666.45        2695.5010\n",
       "..             ...              ...\n",
       "95        12631.10       23719.5121\n",
       "96        10507.48       13840.9987\n",
       "97         2612.14        3315.1000\n",
       "98           21.56          32.0856\n",
       "99        30885.36       32848.4196\n",
       "\n",
       "[100 rows x 2 columns]"
      ]
     },
     "execution_count": 29,
     "metadata": {},
     "output_type": "execute_result"
    }
   ],
   "source": [
    "#Making a Dataframe for the predicted sales\n",
    "pred_dataset = pd.DataFrame(np.c_[y_test,y_pred], columns=[\"Original Sales\",\"Predicted Sales\"])\n",
    "pred_dataset.head(100)"
   ]
  },
  {
   "cell_type": "code",
   "execution_count": 30,
   "id": "2d69e2fa",
   "metadata": {},
   "outputs": [
    {
     "name": "stdout",
     "output_type": "stream",
     "text": [
      "The Accuracy of the model is:  94.78179052051833\n"
     ]
    }
   ],
   "source": [
    "import sklearn\n",
    "print(\"The Accuracy of the model is: \",sklearn.metrics.r2_score(y_test, y_pred)*100)"
   ]
  },
  {
   "cell_type": "code",
   "execution_count": 31,
   "id": "c03cffc3",
   "metadata": {},
   "outputs": [],
   "source": [
    "import numpy as np\n",
    "import pandas as pd\n",
    "from sklearn.model_selection import train_test_split\n",
    "from sklearn.preprocessing import MinMaxScaler\n",
    "from tensorflow.keras.models import Sequential\n",
    "from tensorflow.keras.layers import LSTM, Dense\n",
    "from sklearn.metrics import mean_squared_error\n",
    "\n",
    "# Assuming final_dataset is prepared with features and target (Weekly_Sales)\n",
    "X = final_dataset.drop('Weekly_Sales', axis=1).values\n",
    "y = final_dataset['Weekly_Sales'].values.reshape(-1, 1)\n",
    "\n",
    "# Normalize the features using Min-Max scaling\n",
    "scaler = MinMaxScaler(feature_range=(0, 1))\n",
    "X_scaled = scaler.fit_transform(X)\n",
    "\n",
    "# Splitting data into train and test sets\n",
    "X_train, X_test, y_train, y_test = train_test_split(X_scaled, y, test_size=0.2, shuffle=False)  # Assuming time-based split\n",
    "\n",
    "\n",
    "\n"
   ]
  },
  {
   "cell_type": "code",
   "execution_count": 32,
   "id": "cb64f73e",
   "metadata": {},
   "outputs": [],
   "source": [
    "# Reshape data for LSTM input: [samples, time steps, features]\n",
    "def create_sequences(X, y, time_steps=1):\n",
    "    X_seq, y_seq = [], []\n",
    "    for i in range(len(X) - time_steps):\n",
    "        X_seq.append(X[i:(i + time_steps)])\n",
    "        y_seq.append(y[i + time_steps])\n",
    "    return np.array(X_seq), np.array(y_seq)"
   ]
  },
  {
   "cell_type": "code",
   "execution_count": 33,
   "id": "ca51d85e",
   "metadata": {},
   "outputs": [
    {
     "name": "stdout",
     "output_type": "stream",
     "text": [
      "WARNING:tensorflow:From C:\\Users\\HP\\anaconda3\\lib\\site-packages\\keras\\src\\backend.py:873: The name tf.get_default_graph is deprecated. Please use tf.compat.v1.get_default_graph instead.\n",
      "\n",
      "WARNING:tensorflow:From C:\\Users\\HP\\anaconda3\\lib\\site-packages\\keras\\src\\optimizers\\__init__.py:309: The name tf.train.Optimizer is deprecated. Please use tf.compat.v1.train.Optimizer instead.\n",
      "\n",
      "Epoch 1/50\n",
      "WARNING:tensorflow:From C:\\Users\\HP\\anaconda3\\lib\\site-packages\\keras\\src\\utils\\tf_utils.py:492: The name tf.ragged.RaggedTensorValue is deprecated. Please use tf.compat.v1.ragged.RaggedTensorValue instead.\n",
      "\n",
      "10584/10584 [==============================] - 49s 4ms/step - loss: 826569792.0000\n",
      "Epoch 2/50\n",
      "10584/10584 [==============================] - 46s 4ms/step - loss: 813464768.0000\n",
      "Epoch 3/50\n",
      "10584/10584 [==============================] - 46s 4ms/step - loss: 800736512.0000\n",
      "Epoch 4/50\n",
      "10584/10584 [==============================] - 46s 4ms/step - loss: 788354688.0000\n",
      "Epoch 5/50\n",
      "10584/10584 [==============================] - 48s 5ms/step - loss: 776313536.0000\n",
      "Epoch 6/50\n",
      "10584/10584 [==============================] - 45s 4ms/step - loss: 764596672.0000\n",
      "Epoch 7/50\n",
      "10584/10584 [==============================] - 44s 4ms/step - loss: 753233920.0000\n",
      "Epoch 8/50\n",
      "10584/10584 [==============================] - 45s 4ms/step - loss: 742209472.0000\n",
      "Epoch 9/50\n",
      "10584/10584 [==============================] - 45s 4ms/step - loss: 731520704.0000\n",
      "Epoch 10/50\n",
      "10584/10584 [==============================] - 44s 4ms/step - loss: 721160576.0000\n",
      "Epoch 11/50\n",
      "10584/10584 [==============================] - 46s 4ms/step - loss: 711139200.0000\n",
      "Epoch 12/50\n",
      "10584/10584 [==============================] - 44s 4ms/step - loss: 701473728.0000\n",
      "Epoch 13/50\n",
      "10584/10584 [==============================] - 44s 4ms/step - loss: 692146688.0000\n",
      "Epoch 14/50\n",
      "10584/10584 [==============================] - 40s 4ms/step - loss: 683105664.0000\n",
      "Epoch 15/50\n",
      "10584/10584 [==============================] - 38s 4ms/step - loss: 674463168.0000\n",
      "Epoch 16/50\n",
      "10584/10584 [==============================] - 49s 5ms/step - loss: 666124416.0000\n",
      "Epoch 17/50\n",
      "10584/10584 [==============================] - 50s 5ms/step - loss: 658126784.0000\n",
      "Epoch 18/50\n",
      "10584/10584 [==============================] - 51s 5ms/step - loss: 650452096.0000\n",
      "Epoch 19/50\n",
      "10584/10584 [==============================] - 41s 4ms/step - loss: 643129792.0000\n",
      "Epoch 20/50\n",
      "10584/10584 [==============================] - 48s 5ms/step - loss: 636128064.0000\n",
      "Epoch 21/50\n",
      "10584/10584 [==============================] - 43s 4ms/step - loss: 629455616.0000\n",
      "Epoch 22/50\n",
      "10584/10584 [==============================] - 34s 3ms/step - loss: 623109504.0000\n",
      "Epoch 23/50\n",
      "10584/10584 [==============================] - 34s 3ms/step - loss: 617111808.0000\n",
      "Epoch 24/50\n",
      "10584/10584 [==============================] - 35s 3ms/step - loss: 611402624.0000\n",
      "Epoch 25/50\n",
      "10584/10584 [==============================] - 40s 4ms/step - loss: 606038784.0000\n",
      "Epoch 26/50\n",
      "10584/10584 [==============================] - 34s 3ms/step - loss: 600991808.0000\n",
      "Epoch 27/50\n",
      "10584/10584 [==============================] - 34s 3ms/step - loss: 596254912.0000\n",
      "Epoch 28/50\n",
      "10584/10584 [==============================] - 33s 3ms/step - loss: 591828608.0000\n",
      "Epoch 29/50\n",
      "10584/10584 [==============================] - 35s 3ms/step - loss: 587730816.0000\n",
      "Epoch 30/50\n",
      "10584/10584 [==============================] - 34s 3ms/step - loss: 583913216.0000\n",
      "Epoch 31/50\n",
      "10584/10584 [==============================] - 50s 5ms/step - loss: 580411328.0000\n",
      "Epoch 32/50\n",
      "10584/10584 [==============================] - 45s 4ms/step - loss: 577174912.0000\n",
      "Epoch 33/50\n",
      "10584/10584 [==============================] - 44s 4ms/step - loss: 574243200.0000\n",
      "Epoch 34/50\n",
      "10584/10584 [==============================] - 47s 4ms/step - loss: 571565056.0000\n",
      "Epoch 35/50\n",
      "10584/10584 [==============================] - 39s 4ms/step - loss: 569161408.0000\n",
      "Epoch 36/50\n",
      "10584/10584 [==============================] - 46s 4ms/step - loss: 567006848.0000\n",
      "Epoch 37/50\n",
      "10584/10584 [==============================] - 40s 4ms/step - loss: 565067200.0000\n",
      "Epoch 38/50\n",
      "10584/10584 [==============================] - 43s 4ms/step - loss: 563352832.0000\n",
      "Epoch 39/50\n",
      "10584/10584 [==============================] - 44s 4ms/step - loss: 561839360.0000\n",
      "Epoch 40/50\n",
      "10584/10584 [==============================] - 48s 5ms/step - loss: 560518272.0000\n",
      "Epoch 41/50\n",
      "10584/10584 [==============================] - 47s 4ms/step - loss: 559378560.0000\n",
      "Epoch 42/50\n",
      "10584/10584 [==============================] - 45s 4ms/step - loss: 558384576.0000\n",
      "Epoch 43/50\n",
      "10584/10584 [==============================] - 45s 4ms/step - loss: 557538688.0000\n",
      "Epoch 44/50\n",
      "10584/10584 [==============================] - 43s 4ms/step - loss: 556815680.0000\n",
      "Epoch 45/50\n",
      "10584/10584 [==============================] - 45s 4ms/step - loss: 556200960.0000\n",
      "Epoch 46/50\n",
      "10584/10584 [==============================] - 43s 4ms/step - loss: 555685888.0000\n",
      "Epoch 47/50\n",
      "10584/10584 [==============================] - 44s 4ms/step - loss: 555249344.0000\n",
      "Epoch 48/50\n",
      "10584/10584 [==============================] - 45s 4ms/step - loss: 554887104.0000\n",
      "Epoch 49/50\n",
      "10584/10584 [==============================] - 43s 4ms/step - loss: 554583872.0000\n",
      "Epoch 50/50\n",
      "10584/10584 [==============================] - 43s 4ms/step - loss: 554328704.0000\n",
      "2646/2646 [==============================] - 8s 3ms/step\n"
     ]
    },
    {
     "ename": "ValueError",
     "evalue": "non-broadcastable output operand with shape (84664,1) doesn't match the broadcast shape (84664,12)",
     "output_type": "error",
     "traceback": [
      "\u001b[1;31m---------------------------------------------------------------------------\u001b[0m",
      "\u001b[1;31mValueError\u001b[0m                                Traceback (most recent call last)",
      "Input \u001b[1;32mIn [33]\u001b[0m, in \u001b[0;36m<cell line: 20>\u001b[1;34m()\u001b[0m\n\u001b[0;32m     17\u001b[0m y_pred \u001b[38;5;241m=\u001b[39m model\u001b[38;5;241m.\u001b[39mpredict(X_test_seq)\n\u001b[0;32m     19\u001b[0m \u001b[38;5;66;03m# Inverse transform predictions and actual values (if necessary)\u001b[39;00m\n\u001b[1;32m---> 20\u001b[0m y_pred_inv \u001b[38;5;241m=\u001b[39m \u001b[43mscaler\u001b[49m\u001b[38;5;241;43m.\u001b[39;49m\u001b[43minverse_transform\u001b[49m\u001b[43m(\u001b[49m\u001b[43my_pred\u001b[49m\u001b[43m)\u001b[49m\n\u001b[0;32m     21\u001b[0m y_test_inv \u001b[38;5;241m=\u001b[39m scaler\u001b[38;5;241m.\u001b[39minverse_transform(y_test_seq)\n\u001b[0;32m     23\u001b[0m \u001b[38;5;66;03m# Calculate RMSE\u001b[39;00m\n",
      "File \u001b[1;32m~\\anaconda3\\lib\\site-packages\\sklearn\\preprocessing\\_data.py:529\u001b[0m, in \u001b[0;36mMinMaxScaler.inverse_transform\u001b[1;34m(self, X)\u001b[0m\n\u001b[0;32m    523\u001b[0m check_is_fitted(\u001b[38;5;28mself\u001b[39m)\n\u001b[0;32m    525\u001b[0m X \u001b[38;5;241m=\u001b[39m check_array(\n\u001b[0;32m    526\u001b[0m     X, copy\u001b[38;5;241m=\u001b[39m\u001b[38;5;28mself\u001b[39m\u001b[38;5;241m.\u001b[39mcopy, dtype\u001b[38;5;241m=\u001b[39mFLOAT_DTYPES, force_all_finite\u001b[38;5;241m=\u001b[39m\u001b[38;5;124m\"\u001b[39m\u001b[38;5;124mallow-nan\u001b[39m\u001b[38;5;124m\"\u001b[39m\n\u001b[0;32m    527\u001b[0m )\n\u001b[1;32m--> 529\u001b[0m X \u001b[38;5;241m-\u001b[39m\u001b[38;5;241m=\u001b[39m \u001b[38;5;28mself\u001b[39m\u001b[38;5;241m.\u001b[39mmin_\n\u001b[0;32m    530\u001b[0m X \u001b[38;5;241m/\u001b[39m\u001b[38;5;241m=\u001b[39m \u001b[38;5;28mself\u001b[39m\u001b[38;5;241m.\u001b[39mscale_\n\u001b[0;32m    531\u001b[0m \u001b[38;5;28;01mreturn\u001b[39;00m X\n",
      "\u001b[1;31mValueError\u001b[0m: non-broadcastable output operand with shape (84664,1) doesn't match the broadcast shape (84664,12)"
     ]
    }
   ],
   "source": [
    "time_steps = 1  # Number of time steps (look-back)\n",
    "X_train_seq, y_train_seq = create_sequences(X_train, y_train, time_steps)\n",
    "X_test_seq, y_test_seq = create_sequences(X_test, y_test, time_steps)\n",
    "\n",
    "# Define LSTM model\n",
    "model = Sequential()\n",
    "model.add(LSTM(50, input_shape=(X_train_seq.shape[1], X_train_seq.shape[2])))\n",
    "model.add(Dense(1))  # Output layer with 1 neuron for regression\n",
    "\n",
    "# Compile model\n",
    "model.compile(optimizer='adam', loss='mean_squared_error')\n",
    "\n",
    "# Train model\n",
    "model.fit(X_train_seq, y_train_seq, epochs=50, batch_size=32, verbose=1)\n",
    "\n",
    "# Evaluate model on test data\n",
    "y_pred = model.predict(X_test_seq)\n",
    "\n",
    "# Inverse transform predictions and actual values (if necessary)\n",
    "y_pred_inv = scaler.inverse_transform(y_pred)\n",
    "y_test_inv = scaler.inverse_transform(y_test_seq)\n",
    "\n",
    "# Calculate RMSE\n",
    "rmse = np.sqrt(mean_squared_error(y_test_inv, y_pred_inv))\n",
    "print(\"Test RMSE:\", rmse)\n"
   ]
  },
  {
   "cell_type": "code",
   "execution_count": null,
   "id": "a31f9eb0",
   "metadata": {},
   "outputs": [],
   "source": []
  }
 ],
 "metadata": {
  "kernelspec": {
   "display_name": "Python 3 (ipykernel)",
   "language": "python",
   "name": "python3"
  },
  "language_info": {
   "codemirror_mode": {
    "name": "ipython",
    "version": 3
   },
   "file_extension": ".py",
   "mimetype": "text/x-python",
   "name": "python",
   "nbconvert_exporter": "python",
   "pygments_lexer": "ipython3",
   "version": "3.9.12"
  }
 },
 "nbformat": 4,
 "nbformat_minor": 5
}
